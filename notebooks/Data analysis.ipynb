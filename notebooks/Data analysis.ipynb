{
 "cells": [
  {
   "attachments": {},
   "cell_type": "markdown",
   "metadata": {},
   "source": [
    "# 1. Business Understanding"
   ]
  },
  {
   "attachments": {},
   "cell_type": "markdown",
   "metadata": {},
   "source": [
    "The retail industry is highly competitive, and pricing plays a crucial role in attracting customers and maximizing profits. Pricing decisions are complex and influenced by various factors such as cost of goods sold (COGS), market demand, competition, and desired profit margins. So, companies need to optimize their pricing strategies to find the middle ground that maximizes sales while maintaining profitability."
   ]
  },
  {
   "attachments": {},
   "cell_type": "markdown",
   "metadata": {},
   "source": [
    "# 2. Data Understanding"
   ]
  },
  {
   "attachments": {},
   "cell_type": "markdown",
   "metadata": {},
   "source": [
    "-  Source: The data used was gotten from [Kaggle](https://www.kaggle.com/datasets/suddharshan/retail-price-optimization?resource=download)\n",
    "- Content: The data contains the demand and corresponding average unit price at a product - month_year level\n",
    "- Format: The data used was in a CSV file format\n",
    "\n",
    "The columns in the data are :\n",
    "\n",
    "- product_id: A unique identifier for each product in the dataset.\n",
    "- product_category_name: The name of the product category to which the product belongs.\n",
    "- month_year: The month and year of the retail transaction or data recording.\n",
    "- qty: The quantity of the product sold or purchased in a given transaction.\n",
    "- total_price: The total price of the product, including any applicable taxes or discounts.\n",
    "- freight_price: The cost of shipping or freight associated with the product.\n",
    "- unit_price: The price of a single unit of the product.\n",
    "- product_name_length: The length of the product name in terms of the number of characters.\n",
    "- product_description_length: The length of the product description in terms of the number of characters.\n",
    "- product_photos_qty: The number of photos available for the product in the dataset.\n",
    "- product_weight_g: The weight of the product in grams.\n",
    "- product_score: A score or rating associated with the product’s quality, popularity, or other relevant factors.\n",
    "- customers: The number of customers who purchased the product in a given transaction.\n",
    "- weekday: The day of the week on which the transaction occurred.\n",
    "- weekend: A binary flag indicating whether the transaction occurred on a weekend (1) or not (0).\n",
    "- holiday: A binary flag indicating whether the transaction occurred on a holiday (1) or not (0).\n",
    "- month: The month in which the transaction occurred.\n",
    "- year: The year in which the transaction occurred.\n",
    "- s: the effect of seasonality\n",
    "- comp_1, comp_2, comp_3: Competitor information or variables related to competitors’ prices, promotions, or other relevant factors.\n",
    "- ps1, ps2, ps3: Product score or rating associated with competitors’ products.\n",
    "- fp1, fp2, fp3: Freight or shipping cost associated with competitors’ products."
   ]
  },
  {
   "attachments": {},
   "cell_type": "markdown",
   "metadata": {},
   "source": [
    "# 3. Data Preparation"
   ]
  },
  {
   "cell_type": "code",
   "execution_count": null,
   "metadata": {},
   "outputs": [],
   "source": [
    "# importing libraries\n",
    "\n",
    "import pandas as pd\n",
    "from matplotlib import pyplot as plt"
   ]
  },
  {
   "cell_type": "code",
   "execution_count": null,
   "metadata": {},
   "outputs": [],
   "source": []
  },
  {
   "cell_type": "code",
   "execution_count": null,
   "metadata": {},
   "outputs": [],
   "source": []
  },
  {
   "cell_type": "code",
   "execution_count": null,
   "metadata": {},
   "outputs": [],
   "source": []
  },
  {
   "cell_type": "code",
   "execution_count": null,
   "metadata": {},
   "outputs": [],
   "source": []
  },
  {
   "cell_type": "code",
   "execution_count": null,
   "metadata": {},
   "outputs": [],
   "source": []
  },
  {
   "attachments": {},
   "cell_type": "markdown",
   "metadata": {},
   "source": [
    "## Exploratory Data Analysis (EDA)"
   ]
  },
  {
   "attachments": {},
   "cell_type": "markdown",
   "metadata": {},
   "source": [
    "# 4. Modelling"
   ]
  },
  {
   "attachments": {},
   "cell_type": "markdown",
   "metadata": {},
   "source": [
    "# 5. Model Evaluation"
   ]
  },
  {
   "attachments": {},
   "cell_type": "markdown",
   "metadata": {},
   "source": [
    "# 6. Deployment"
   ]
  },
  {
   "cell_type": "code",
   "execution_count": null,
   "metadata": {},
   "outputs": [],
   "source": []
  }
 ],
 "metadata": {
  "language_info": {
   "name": "python"
  },
  "orig_nbformat": 4
 },
 "nbformat": 4,
 "nbformat_minor": 2
}
